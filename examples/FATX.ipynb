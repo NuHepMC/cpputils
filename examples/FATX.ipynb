{
 "cells": [
  {
   "cell_type": "code",
   "execution_count": 1,
   "id": "81bbffe5-115d-4374-9772-bf996dc1956e",
   "metadata": {},
   "outputs": [],
   "source": [
    "import pyNuHepMC as pnh\n",
    "from pyHepMC3 import HepMC3 as hm"
   ]
  },
  {
   "cell_type": "code",
   "execution_count": 3,
   "id": "29990e04-d736-43af-af94-b01e6766d8b7",
   "metadata": {},
   "outputs": [
    {
     "name": "stdout",
     "output_type": "stream",
     "text": [
      "End of file reached. Exit.\n",
      "\n",
      "nevt: 100000\n",
      "sumw: 100000\n",
      "input_unit: [pb, PerTargetMolecularNucleon]\n",
      "fatx: 1.73174 pm/TargetAtom, 1.44312 cm^2 * 10^-38/Nucleon\n",
      "GC5FATX: 0.0144312\n",
      "\n"
     ]
    }
   ],
   "source": [
    "inputA = hm.deduce_reader(\"test.hepmc3.gz\")\n",
    "\n",
    "FATXAcc = None\n",
    "evt_i = 0\n",
    "\n",
    "while not inputA.failed():\n",
    "    evt = hm.GenEvent()\n",
    "    inputA.read_event(evt)\n",
    "\n",
    "    if inputA.failed():\n",
    "        print(\"End of file reached. Exit.\\n\")\n",
    "        break\n",
    "    \n",
    "    if not FATXAcc:\n",
    "        FATXAcc = pnh.FATXUtils.make_accumulator(evt.run_info())\n",
    "\n",
    "    FATXAcc.process(evt)\n",
    "        \n",
    "    evt_i += 1\n",
    "    evt.clear()\n",
    "inputA.close()\n",
    "\n",
    "print(FATXAcc)"
   ]
  },
  {
   "cell_type": "code",
   "execution_count": null,
   "id": "4b6b03fa-d340-46b4-b854-ebe0b28471db",
   "metadata": {},
   "outputs": [],
   "source": []
  }
 ],
 "metadata": {
  "kernelspec": {
   "display_name": "Python 3 (ipykernel)",
   "language": "python",
   "name": "python3"
  },
  "language_info": {
   "codemirror_mode": {
    "name": "ipython",
    "version": 3
   },
   "file_extension": ".py",
   "mimetype": "text/x-python",
   "name": "python",
   "nbconvert_exporter": "python",
   "pygments_lexer": "ipython3",
   "version": "3.9.18"
  }
 },
 "nbformat": 4,
 "nbformat_minor": 5
}
